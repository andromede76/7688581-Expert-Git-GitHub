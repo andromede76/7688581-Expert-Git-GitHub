{
  "cells": [
    {
      "cell_type": "markdown",
      "metadata": {
        "id": "view-in-github",
        "colab_type": "text"
      },
      "source": [
        "<a href=\"https://colab.research.google.com/github/andromede76/7688581-Expert-Git-GitHub/blob/main/first_steps.ipynb\" target=\"_parent\"><img src=\"https://colab.research.google.com/assets/colab-badge.svg\" alt=\"Open In Colab\"/></a>"
      ]
    },
    {
      "cell_type": "markdown",
      "metadata": {
        "id": "6YvZWP7UqLg1"
      },
      "source": [
        "# Projet Fil Rouge\n",
        "### Nom, Prénom, Année"
      ]
    },
    {
      "cell_type": "markdown",
      "metadata": {
        "id": "z41WzbzHqLg2"
      },
      "source": [
        "## Data Cleaning"
      ]
    },
    {
      "cell_type": "code",
      "execution_count": null,
      "metadata": {
        "id": "WZr2HE5rqLg3"
      },
      "outputs": [],
      "source": [
        "# Ici, vous réaliserez le cleaning de votre jeu de données"
      ]
    },
    {
      "cell_type": "markdown",
      "metadata": {
        "id": "Z9p8VywmqLg4"
      },
      "source": [
        "## Data Visualisation\n",
        "Ici, vous réaliserez vos observations, créerez vos graphes dans un premier temps. Une fois qu'ils seront fait, ils seront à intégrer à votre application Streamlit. Considérez donc cet espace comme un bac à sable avant de vous lancer dans le développement de l'application de Data Visualisation."
      ]
    },
    {
      "cell_type": "code",
      "execution_count": null,
      "metadata": {
        "id": "TSJ5NKSBqLg4"
      },
      "outputs": [],
      "source": [
        "# Ici, vous réaliserez la visualisation de votre jeu de données"
      ]
    }
  ],
  "metadata": {
    "language_info": {
      "name": "python"
    },
    "colab": {
      "provenance": [],
      "include_colab_link": true
    },
    "kernelspec": {
      "name": "python3",
      "display_name": "Python 3"
    }
  },
  "nbformat": 4,
  "nbformat_minor": 0
}